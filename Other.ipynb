{
  "nbformat": 4,
  "nbformat_minor": 0,
  "metadata": {
    "colab": {
      "provenance": []
    },
    "kernelspec": {
      "name": "python3",
      "display_name": "Python 3"
    },
    "language_info": {
      "name": "python"
    }
  },
  "cells": [
    {
      "cell_type": "markdown",
      "source": [
        "Convert video into frame images"
      ],
      "metadata": {
        "id": "HtchSQhPTDfM"
      }
    },
    {
      "cell_type": "code",
      "execution_count": null,
      "metadata": {
        "id": "mW4_g5ZtTAFY"
      },
      "outputs": [],
      "source": [
        "import cv2\n",
        "vidcap = cv2.VideoCapture('sample.mp4')\n",
        "success,image = vidcap.read()\n",
        "count = 1\n",
        "while success:\n",
        "  cv2.imwrite(\"sample/frame%d.jpg\" % count, image)     # save frame as JPEG file\n",
        "  success,image = vidcap.read()\n",
        "  print('Read a new frame: ', success)\n",
        "  count += 1"
      ]
    },
    {
      "cell_type": "markdown",
      "source": [
        "Crop Pedestrian in Bounding Box"
      ],
      "metadata": {
        "id": "l_QVEL45VY5g"
      }
    },
    {
      "cell_type": "code",
      "source": [
        "import pandas as pd\n",
        "import cv2\n",
        "\n",
        "df = pd.read_csv('sample.csv')\n",
        "df[df < 0] = 0\n",
        "\n",
        "for i in range(len(df)):\n",
        "    frame = df.loc[i][0]\n",
        "    img = cv2.imread('sample/frame'+str(frame)+'.jpg')\n",
        "    ID = df.loc[i][1]\n",
        "    x1 = df.loc[i][2]\n",
        "    y1 = df.loc[i][3]\n",
        "    x2 = df.loc[i][4]\n",
        "    y2 = df.loc[i][5]\n",
        "    # imgCrop = img[x2:x1, y2:y1]\n",
        "    imgCrop = img[y1:y1+y2, x1:x2+x1]\n",
        "    cv2.imwrite('sample_person/frame'+str(frame)+'_ID'+str(ID)+'.jpg',imgCrop)"
      ],
      "metadata": {
        "id": "SOssEP1gViLP"
      },
      "execution_count": null,
      "outputs": []
    },
    {
      "cell_type": "markdown",
      "source": [
        "Crop ROI"
      ],
      "metadata": {
        "id": "rkXgKh7zTJB-"
      }
    },
    {
      "cell_type": "code",
      "source": [
        "import os\n",
        "import cv2\n",
        "directory = \"Staff\"\n",
        "directory2 = \"Staff_Cropped\"\n",
        "\n",
        "\n",
        "for filename in os.listdir(directory):\n",
        "    if filename.endswith(\".jpg\"):\n",
        "      #do smth\n",
        "        img = cv2.imread(os.path.join(directory,filename))\n",
        "        y = 75\n",
        "        x = 40\n",
        "        w = 60\n",
        "        h = 50\n",
        "        crop_img = img[y:y+h, x:x+w]\n",
        "        filename2=filename.replace('.jpg', '')\n",
        "        cv2.imwrite(os.path.join(directory2,filename2+\"_crop.png\"),crop_img)\n",
        "        continue\n",
        "    else:\n",
        "        continue"
      ],
      "metadata": {
        "id": "mimGZrSbTQG4"
      },
      "execution_count": null,
      "outputs": []
    },
    {
      "cell_type": "markdown",
      "source": [
        "Apply FAST and FASTNMS to the folder containing the ROI images and save the results in CSV file"
      ],
      "metadata": {
        "id": "Sbn7j2WITWdZ"
      }
    },
    {
      "cell_type": "code",
      "source": [
        "import os\n",
        "import cv2\n",
        "import csv\n",
        "\n",
        "directory = \"Staff_Final\"\n",
        "\n",
        "with open('Staff_fast.csv', mode='w',newline='') as Round:\n",
        "    Round_writer = csv.writer(Round, delimiter=',', quotechar='\"', quoting=csv.QUOTE_ALL)\n",
        "    for filename in os.listdir(directory):\n",
        "        if filename.endswith(\".png\"):\n",
        "      #do smt\n",
        "            img = cv2.imread(os.path.join(directory,filename))\n",
        "            # Convert the image to RGB\n",
        "            rgb = cv2.cvtColor(img, cv2.COLOR_BGR2RGB)\n",
        "            # Convert the image to gray scale\n",
        "            gray = cv2.cvtColor(rgb,cv2.COLOR_BGR2GRAY)\n",
        "            # ## Detect keypoints and Create Descriptor\n",
        "            fast = cv2.FastFeatureDetector_create()\n",
        "            # Detect keypoints with non max suppression\n",
        "            keypoints_with_nonmax = fast.detect(gray, None)\n",
        "            # Disable nonmaxSuppression\n",
        "            fast.setNonmaxSuppression(False)\n",
        "            # Detect keypoints without non max suppression\n",
        "            keypoints_without_nonmax = fast.detect(gray, None)\n",
        "            Round_writer.writerow([filename,len(keypoints_with_nonmax),len(keypoints_without_nonmax)])\n",
        "            continue\n",
        "        else:\n",
        "            continue"
      ],
      "metadata": {
        "id": "S8VcWesvTSiZ"
      },
      "execution_count": null,
      "outputs": []
    },
    {
      "cell_type": "markdown",
      "source": [
        "SVM using FAST features stored in CSV file"
      ],
      "metadata": {
        "id": "VbEBQ3c-UaIp"
      }
    },
    {
      "cell_type": "code",
      "source": [
        "import pandas as pd\n",
        "from sklearn import svm\n",
        "from sklearn.preprocessing import LabelEncoder\n",
        "\n",
        "df = pd.read_csv('FAST_Combined.csv')\n",
        "X = df.drop(['filename'], axis=1)\n",
        "X=X.dropna()\n",
        "X = X.apply(LabelEncoder().fit_transform)\n",
        "y = pd.DataFrame(X, columns= ['class'])\n",
        "X = pd.DataFrame(X, columns= ['FASTNMS'])\n",
        "\n",
        "from sklearn.model_selection import train_test_split\n",
        "X_train, X_test, y_train, y_test = train_test_split(X, y, test_size = 0.20)\n",
        "svclassifier = svm.SVC(kernel='linear')\n",
        "svclassifier.fit(X_train, y_train)\n",
        "y_pred = svclassifier.predict(X_test)\n",
        "\n",
        "from sklearn.metrics import classification_report, confusion_matrix,accuracy_score\n",
        "print(confusion_matrix(y_test,y_pred))\n",
        "print(classification_report(y_test,y_pred))\n",
        "print(accuracy_score(y_test,y_pred))"
      ],
      "metadata": {
        "id": "mRkAOftdUdTN"
      },
      "execution_count": null,
      "outputs": []
    }
  ]
}